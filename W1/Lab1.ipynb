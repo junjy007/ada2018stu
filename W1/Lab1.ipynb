{
 "cells": [
  {
   "cell_type": "markdown",
   "metadata": {},
   "source": [
    "# Lab Tasks\n",
    "0. Determine a paper to read.\n",
    "1. Follow what is left in lecture note.\n",
    "2. Try to design different data representations by providing alternative to `compute_simple_feature`. Evaluation your proposal.\n",
    "3. Try multi-class linear model (non-perceptron). Check [here](http://scikit-learn.org/stable/modules/generated/sklearn.linear_model.LogisticRegression.html) for reference."
   ]
  },
  {
   "cell_type": "markdown",
   "metadata": {},
   "source": [
    "# Build Perceptron with Scikit-learn and Classify hand-written digits"
   ]
  },
  {
   "cell_type": "code",
   "execution_count": null,
   "metadata": {},
   "outputs": [],
   "source": [
    "import matplotlib.pyplot as plt\n",
    "%matplotlib inline"
   ]
  },
  {
   "cell_type": "code",
   "execution_count": null,
   "metadata": {},
   "outputs": [],
   "source": [
    "import numpy as np\n",
    "from sklearn.linear_model import Perceptron"
   ]
  },
  {
   "cell_type": "markdown",
   "metadata": {},
   "source": [
    "# Build a Perceptron using Scikit-Learn Package"
   ]
  },
  {
   "cell_type": "code",
   "execution_count": null,
   "metadata": {},
   "outputs": [],
   "source": [
    "perc = Perceptron()"
   ]
  },
  {
   "cell_type": "code",
   "execution_count": null,
   "metadata": {},
   "outputs": [],
   "source": [
    "perc"
   ]
  },
  {
   "cell_type": "code",
   "execution_count": null,
   "metadata": {},
   "outputs": [],
   "source": [
    "known_customer1_x = [60, 0]\n",
    "known_customer1_y = 0\n",
    "known_customer2_x = [100, 30]\n",
    "known_customer2_y = 0\n",
    "known_customer3_x = [40, 30]\n",
    "known_customer3_y = 1\n",
    "known_customer4_x = [55, 35]\n",
    "known_customer4_y = 1\n",
    "known_customer5_x = [45, 5]\n",
    "known_customer5_y = 0"
   ]
  },
  {
   "cell_type": "code",
   "execution_count": null,
   "metadata": {},
   "outputs": [],
   "source": [
    "X = [known_customer1_x, \n",
    "     known_customer2_x, \n",
    "     known_customer3_x, \n",
    "     known_customer4_x, \n",
    "     known_customer5_x]\n",
    "y = [known_customer1_y, \n",
    "     known_customer2_y, \n",
    "     known_customer3_y, \n",
    "     known_customer4_y, \n",
    "     known_customer5_y]"
   ]
  },
  {
   "cell_type": "code",
   "execution_count": null,
   "metadata": {},
   "outputs": [],
   "source": [
    "print (X, y)"
   ]
  },
  {
   "cell_type": "code",
   "execution_count": null,
   "metadata": {},
   "outputs": [],
   "source": [
    "perc.fit(X,y)"
   ]
  },
  {
   "cell_type": "code",
   "execution_count": null,
   "metadata": {},
   "outputs": [],
   "source": [
    "print (perc.predict([[0, 100], [120, 0]]))"
   ]
  },
  {
   "cell_type": "code",
   "execution_count": null,
   "metadata": {},
   "outputs": [],
   "source": [
    "X_test = np.asarray([ [120, 20], [15, 10] ])\n",
    "pred_test = perc.predict(X_test)"
   ]
  },
  {
   "cell_type": "code",
   "execution_count": null,
   "metadata": {},
   "outputs": [],
   "source": [
    "X_np = np.array(X)\n",
    "y_np = np.array(y)\n",
    "plt.scatter(X_np[:, 0], X_np[:, 1], c=y_np, cmap='summer')\n",
    "plt.scatter(X_test[:, 0], X_test[:, 1], c=pred_test, cmap='summer', s=40)\n",
    "plt.xlabel('Income')\n",
    "plt.ylabel('Debt')\n",
    "plt.show()"
   ]
  },
  {
   "cell_type": "markdown",
   "metadata": {},
   "source": [
    "## 1 Load data\n",
    "\n",
    "Read the raw data. Get X and ground-truth y. Define a function converting x-sample into a 16x16 image (for visualisation)"
   ]
  },
  {
   "cell_type": "code",
   "execution_count": null,
   "metadata": {},
   "outputs": [],
   "source": [
    "import os\n",
    "import urllib.request\n",
    "data_filename = \"ref/usps.train.txt\"\n",
    "if not os.path.exists(data_filename):\n",
    "    urllib.request.urlretrieve(\n",
    "        \"https://dl.dropboxusercontent.com/s/yow02sbys5tzepe/usps.train.txt\", \n",
    "        data_filename)"
   ]
  },
  {
   "cell_type": "code",
   "execution_count": null,
   "metadata": {},
   "outputs": [],
   "source": [
    "train_raw = np.genfromtxt(data_filename)"
   ]
  },
  {
   "cell_type": "code",
   "execution_count": null,
   "metadata": {},
   "outputs": [],
   "source": [
    "print (train_raw.shape)\n",
    "# Let us investigate the data a bit\n",
    "print(train_raw[0][0]) # seems to be labels\n",
    "print(train_raw[0][1:].reshape((16,16)))# seems to be the data"
   ]
  },
  {
   "cell_type": "code",
   "execution_count": null,
   "metadata": {},
   "outputs": [],
   "source": [
    "# Load the data, and extract the samples with label 1 and 5.\n",
    "# The image pixels => X, each row represents an image of 16x16=256 pixels\n",
    "# The labels       => y.\n",
    "i_1 = train_raw[:, 0] == 1\n",
    "i_5 = train_raw[:, 0] == 5\n",
    "i_1_5 = np.maximum(i_1, i_5)\n",
    "X_raw, y = train_raw[i_1_5,1:], train_raw[i_1_5,0]\n",
    "\n",
    "print (\"Shape of data-X \", X_raw.shape)\n",
    "print (\"Shape of data-y \", y.shape)\n",
    "\n",
    "# this function convert a row of 256 pixels to 16x16 image.\n",
    "# google numpy reshape from more information about the function\n",
    "def to_img(x):\n",
    "    return x.reshape((16,16))"
   ]
  },
  {
   "cell_type": "code",
   "execution_count": null,
   "metadata": {},
   "outputs": [],
   "source": [
    "plt.imshow(to_img(X_raw[0]), cmap='gray', interpolation='nearest')"
   ]
  },
  {
   "cell_type": "markdown",
   "metadata": {},
   "source": [
    "## 2 Prepare data\n",
    "\n",
    "### 2.1 feature extraction"
   ]
  },
  {
   "cell_type": "code",
   "execution_count": null,
   "metadata": {},
   "outputs": [],
   "source": [
    "def compute_simple_feature(X_raw):\n",
    "    x = []\n",
    "    \n",
    "    for x_ in X_raw:\n",
    "        x_im = to_img(x_)\n",
    "        x_im_hf = x_im[:,::-1]  # flip image horizontally\n",
    "        asym_h = np.abs(x_im - x_im_hf).mean()\n",
    "        \n",
    "        # two features per image\n",
    "        # 1. the mean brightness of the pixel\n",
    "        # 2. the horizontal asymmetry \n",
    "        x.append([x_.mean(), asym_h])\n",
    "        \n",
    "    # asarray assembles a list into a numpy array\n",
    "    # if the elements of the list are list themselves, \n",
    "    # we will have a 2D array\n",
    "    return np.asarray(x)"
   ]
  },
  {
   "cell_type": "code",
   "execution_count": null,
   "metadata": {},
   "outputs": [],
   "source": [
    "X = compute_simple_feature(X_raw)\n",
    "\n",
    "# If you want to see the data, uncomment the following and check some 100 samples, \n",
    "# scatter(X[:100,0], X[:100, 1], c=y[:100], cmap='summer')"
   ]
  },
  {
   "cell_type": "code",
   "execution_count": null,
   "metadata": {},
   "outputs": [],
   "source": [
    "print(X.shape)"
   ]
  },
  {
   "cell_type": "markdown",
   "metadata": {},
   "source": [
    "## 3 Use scikit-learn to build a perceptron"
   ]
  },
  {
   "cell_type": "code",
   "execution_count": null,
   "metadata": {},
   "outputs": [],
   "source": [
    "# see above, the class template Perceptron instantiate a perceptron object\n",
    "perc1 = Perceptron()"
   ]
  },
  {
   "cell_type": "code",
   "execution_count": null,
   "metadata": {},
   "outputs": [],
   "source": [
    "# using first 100 sample images and their labels to train the perceptron\n",
    "TRAIN_NUM = 100\n",
    "perc1.fit(X[:TRAIN_NUM], y[:TRAIN_NUM])"
   ]
  },
  {
   "cell_type": "code",
   "execution_count": null,
   "metadata": {},
   "outputs": [],
   "source": [
    "# this function draws the areas in 2D plane where the model predict to 1 and 0\n",
    "# along with some sample images, predictions and target values\n",
    "def draw_model_and_samples(X, targets, perc):\n",
    "        preds = perc.predict(X)\n",
    "        plt.clf() \n",
    "        \n",
    "        #======== \n",
    "        # Draw the classification boundary, you can skip this block\n",
    "        xx, yy = np.meshgrid(np.linspace(X[:,0].min()*1.05, X[:,0].max()*1.05, 100),\n",
    "                             np.linspace(X[:,1].min()*1.05, X[:,1].max()*1.05, 100),\n",
    "                             )\n",
    "        zz = perc.predict(np.vstack([xx.flatten(), yy.flatten()]).T).reshape(xx.shape)\n",
    "        plt.contourf(xx, yy, zz, cmap='summer', alpha=0.8)\n",
    "        # ========\n",
    "        \n",
    "        # target values are indicated by the colours of the big circles\n",
    "        plt.scatter(X[:, 0], X[:, 1], c=targets, s=128, cmap='summer') \n",
    "        # predicted values are indicated by the colours of the small circles\n",
    "        plt.scatter(X[:, 0], X[:, 1], c=preds, s=36, cmap='summer')\n",
    "        # so when the two circles have the same colour, the prediction is\n",
    "        # correct.\n",
    "        # Check http://scikit-learn.org/stable/modules/generated/sklearn.linear_model.Perceptron.html\n",
    "        # for more information about the perceptron model as well as visualising data and model\n",
    "        plt.grid('on')\n",
    "        plt.title(\"Errors {} / {}\".format(np.count_nonzero(preds!=targets), X.shape[0]))"
   ]
  },
  {
   "cell_type": "code",
   "execution_count": null,
   "metadata": {},
   "outputs": [],
   "source": [
    "# show perceptron prediction on the 50-th, 616-th, 700-th and 800-th sample\n",
    "for sample_index in [50, 616, 700, 800]:\n",
    "    plt.figure(1)\n",
    "    plt.imshow(to_img(X_raw[sample_index]), cmap='gray', \n",
    "               interpolation='nearest')\n",
    "    plt.figure(2)\n",
    "    draw_model_and_samples(X, y, perc1)\n",
    "    plt.plot(X[sample_index, 0], X[sample_index, 1], 'ro', ms=12)\n",
    "    plt.show()\n",
    "    _ = input(\"Enter for next\")"
   ]
  },
  {
   "cell_type": "code",
   "execution_count": null,
   "metadata": {},
   "outputs": [],
   "source": []
  }
 ],
 "metadata": {
  "anaconda-cloud": {},
  "kernelspec": {
   "display_name": "Python 3",
   "language": "python",
   "name": "python3"
  },
  "language_info": {
   "codemirror_mode": {
    "name": "ipython",
    "version": 3
   },
   "file_extension": ".py",
   "mimetype": "text/x-python",
   "name": "python",
   "nbconvert_exporter": "python",
   "pygments_lexer": "ipython3",
   "version": "3.5.4"
  }
 },
 "nbformat": 4,
 "nbformat_minor": 1
}
